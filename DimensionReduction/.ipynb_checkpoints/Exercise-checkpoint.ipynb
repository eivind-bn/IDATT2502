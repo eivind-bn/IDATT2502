{
 "cells": [
  {
   "cell_type": "markdown",
   "metadata": {
    "collapsed": true,
    "pycharm": {
     "name": "#%% md\n"
    }
   },
   "source": [
    "# Exercise 6"
   ]
  },
  {
   "cell_type": "markdown",
   "metadata": {},
   "source": [
    "## Part 1:\n",
    "* Using the UCI mushroom dataset from the last exercise, perform a feature selection using a classifier evaluator. Which features are most discriminitave?"
   ]
  },
  {
   "cell_type": "code",
   "execution_count": 1,
   "metadata": {
    "pycharm": {
     "name": "#%%\n"
    }
   },
   "outputs": [
    {
     "name": "stdout",
     "output_type": "stream",
     "text": [
      "X shape: (8124, 119)\n",
      "y shape: (8124, 2)\n",
      "skb shape: (8124, 5)\n",
      "Selected features: edibility_e, edibility_p, odor_f, odor_n, stalk-surface-above-ring_k\n"
     ]
    }
   ],
   "source": [
    "from sklearn.feature_selection import SelectKBest\n",
    "from sklearn.feature_selection import chi2\n",
    "import numpy as np\n",
    "import pandas as pd\n",
    "\n",
    "# Let's do some feature selection on the UCI mushroom set\n",
    "df = pd.read_csv('agaricus-lepiota.csv')\n",
    "dummies = pd.get_dummies(df)\n",
    "X, y = pd.get_dummies(df), pd.get_dummies(df['edibility'])\n",
    "\n",
    "print(\"X shape:\", X.shape)\n",
    "print(\"y shape:\", y.shape)\n",
    "\n",
    "skb = SelectKBest(chi2, k=5)\n",
    "skb.fit(X, y)\n",
    "X_new = skb.transform(X)\n",
    "\n",
    "print(\"skb shape:\", X_new.shape)\n",
    "\n",
    "# Fetch the selected feature indices and print the corresponding feature names\n",
    "selected = [dummies.columns[i] for i in skb.get_support(indices=True)]\n",
    "print(\"Selected features:\", \", \".join(selected))"
   ]
  },
  {
   "cell_type": "markdown",
   "metadata": {},
   "source": [
    "As edibility is the target class; \"Is it edible or poisonous\", we want to find out which feature is most helpful when telling if a mushroom is poisonous or not. Exept for the targets 'edibility_e' and 'edibility_p', we see that the features 'odor_f' and 'odor_n' is the two best features for telling us that."
   ]
  },
  {
   "cell_type": "markdown",
   "metadata": {},
   "source": [
    "## Part 2:\n",
    "\n",
    "Use principal components analysis to construct a reduced space. Which combination of features explain the most variance in the dataset?"
   ]
  },
  {
   "cell_type": "code",
   "execution_count": 2,
   "metadata": {
    "pycharm": {
     "name": "#%%\n"
    }
   },
   "outputs": [
    {
     "name": "stdout",
     "output_type": "stream",
     "text": [
      "Original space: (8124, 119)\n",
      "PCA space: (8124, 5)\n",
      "Features in which gives max variance: edibility_p, stalk-root_b, habitat_g, stalk-shape_t, odor_n\n"
     ]
    }
   ],
   "source": [
    "from sklearn import decomposition\n",
    "\n",
    "print(\"Original space:\", X.shape)\n",
    "pca = decomposition.PCA(n_components=5) # We want 3 components, and the next shape will show that\n",
    "X_pca = pca.fit_transform(X)\n",
    "\n",
    "print(\"PCA space:\", X_pca.shape)\n",
    "# Finds the indexes in which haves the highest value of variance\n",
    "best_features = [pca.components_[i].argmax() for i in range(X_pca.shape[1])]\n",
    "# Stores the k best features in a string\n",
    "feature_names = [X.columns[best_features[i]] for i in range(X_pca.shape[1])]\n",
    "print(\"Features in which gives max variance:\", \", \".join(feature_names))"
   ]
  },
  {
   "cell_type": "markdown",
   "metadata": {},
   "source": [
    "# Part 3\n",
    "Do you see any overlap between the PCA features and those obtained from feature selection?\n",
    "\n",
    "By just looking at my results I can see that it is overlap in for example odor_n and edibility_p. We may as well run the SelectKBest vs PCA with a higher amount of K = n_components for showing the overlap."
   ]
  },
  {
   "cell_type": "code",
   "execution_count": 3,
   "metadata": {
    "pycharm": {
     "name": "#%%\n"
    }
   },
   "outputs": [
    {
     "name": "stdout",
     "output_type": "stream",
     "text": [
      "For k=5 we get 2 overlapping features:\n",
      " {'odor_n', 'edibility_p'} \n",
      "\n",
      "For k=15 we get 3 overlapping features:\n",
      " {'spore-print-color_k', 'odor_n', 'edibility_p'} \n",
      "\n",
      "For k=25 we get 5 overlapping features:\n",
      " {'stalk-surface-above-ring_k', 'spore-print-color_k', 'stalk-surface-below-ring_s', 'odor_n', 'edibility_p'} \n",
      "\n",
      "For k=35 we get 9 overlapping features:\n",
      " {'odor_s', 'stalk-surface-above-ring_k', 'spore-print-color_k', 'gill-color_w', 'stalk-surface-below-ring_s', 'odor_n', 'gill-color_n', 'stalk-surface-below-ring_k', 'edibility_p'} \n",
      "\n"
     ]
    }
   ],
   "source": [
    "\n",
    "for i in range(5,36,10):\n",
    "    # SelectKBest\n",
    "    skb = SelectKBest(chi2, k=i)\n",
    "    skb.fit(X, y)\n",
    "    skb_res = skb.transform(X)\n",
    "    selected = [dummies.columns[i] for i in skb.get_support(indices=True)]\n",
    "\n",
    "    # PCA\n",
    "    pca = decomposition.PCA(n_components=i) # We want 3 components, and the next shape will show that\n",
    "    X_pca = pca.fit_transform(X)\n",
    "    best_features = [pca.components_[i].argmax() for i in range(X_pca.shape[1])]\n",
    "    feature_names = [X.columns[best_features[i]] for i in range(X_pca.shape[1])]\n",
    "\n",
    "    print(f\"For k={i} we get {len(set(selected).intersection(feature_names))} overlapping features:\\n\", set(selected).intersection(feature_names), \"\\n\")\n"
   ]
  },
  {
   "cell_type": "code",
   "execution_count": 3,
   "metadata": {
    "pycharm": {
     "name": "#%%\n"
    }
   },
   "outputs": [],
   "source": [
    "\n"
   ]
  }
 ],
 "metadata": {
  "kernelspec": {
   "display_name": "Python 3 (ipykernel)",
   "language": "python",
   "name": "python3"
  },
  "language_info": {
   "codemirror_mode": {
    "name": "ipython",
    "version": 3
   },
   "file_extension": ".py",
   "mimetype": "text/x-python",
   "name": "python",
   "nbconvert_exporter": "python",
   "pygments_lexer": "ipython3",
   "version": "3.8.10"
  }
 },
 "nbformat": 4,
 "nbformat_minor": 1
}
