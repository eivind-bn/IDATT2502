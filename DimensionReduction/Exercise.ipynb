{
 "cells": [
  {
   "cell_type": "markdown",
   "metadata": {
    "collapsed": true,
    "pycharm": {
     "name": "#%% md\n"
    }
   },
   "source": [
    "# Exercise 6"
   ]
  },
  {
   "cell_type": "markdown",
   "metadata": {},
   "source": [
    "1.  Using the UCI mushroom dataset from the last exercise, perform a feature selection using a classifier evaluator. Which features are most discriminitave?"
   ]
  },
  {
   "cell_type": "code",
<<<<<<< HEAD
   "execution_count": 37,
=======
   "execution_count": 1,
>>>>>>> 071e9167339b985399933aeb939b5f1b5aefeacc
   "metadata": {
    "pycharm": {
     "name": "#%%\n"
    }
   },
   "outputs": [
    {
     "name": "stdout",
     "output_type": "stream",
     "text": [
      "\n",
      "X shape: $(8124, 117)\n",
      "y shape: $(8124,)\n",
      "skb shape: $(8124, 8)\n",
      "\n",
      "Selected features: odor_f, odor_n, gill-size_n, gill-color_b, stalk-surface-above-ring_k, stalk-surface-below-ring_k, ring-type_l, spore-print-color_h\n"
     ]
    }
   ],
   "source": [
    "from sklearn.feature_selection import SelectKBest\n",
    "from sklearn.feature_selection import chi2\n",
    "import pandas as pd\n",
    "\n",
    "df = pd.read_csv('agaricus-lepiota.csv')\n",
    "edibility = df['edibility']\n",
    "del df['edibility']\n",
    "dummies = pd.get_dummies(df)\n",
    "\n",
    "\n",
    "X, y = dummies, edibility;\n",
    "\n",
    "skb = SelectKBest(chi2, k=8)\n",
    "skb.fit(X, y)\n",
    "X_new = skb.transform(X)\n",
    "\n",
    "\n",
    "print(f\"\"\"\n",
    "X shape: ${X.shape}\n",
    "y shape: ${y.shape}\n",
    "skb shape: ${X_new.shape}\n",
    "\"\"\")\n",
    "\n",
    "selected = [dummies.columns[i] for i in skb.get_support(indices=True)]\n",
    "print(\"Selected features:\", \", \".join(selected))\n"
   ]
  },
  {
   "cell_type": "markdown",
   "metadata": {},
   "source": [
    "2. Use principal components analysis to construct a reduced space. Which combination of features explain the most variance in the dataset?"
   ]
  },
  {
   "cell_type": "code",
<<<<<<< HEAD
   "execution_count": 39,
=======
   "execution_count": 2,
>>>>>>> 071e9167339b985399933aeb939b5f1b5aefeacc
   "metadata": {
    "pycharm": {
     "name": "#%%\n"
    }
   },
   "outputs": [
    {
     "name": "stdout",
     "output_type": "stream",
     "text": [
      "Original space: (8124, 117)\n",
      "PCA space: (8124, 8)\n",
      "Features in which gives max variance: bruises?_f, spore-print-color_h, habitat_g, stalk-shape_t, odor_n, cap-shape_f, cap-surface_s, cap-color_n\n"
     ]
    }
   ],
   "source": [
    "from sklearn import decomposition\n",
    "\n",
    "print(\"Original space:\", X.shape)\n",
    "\n",
    "pca = decomposition.PCA(n_components=8)\n",
    "X_pca = pca.fit_transform(X)\n",
    "print(\"PCA space:\", X_pca.shape)\n",
    "# Finds the indexes in which haves the highest value of variance\n",
    "best_features = [pca.components_[i].argmax() for i in range(X_pca.shape[1])]\n",
    "# Stores the k best features in a string\n",
    "feature_names = [X.columns[best_features[i]] for i in range(X_pca.shape[1])]\n",
    "print(\"Features in which gives max variance:\", \", \".join(feature_names))"
   ]
  },
  {
   "cell_type": "markdown",
   "metadata": {
    "pycharm": {
     "name": "#%% md\n"
    }
   },
   "source": [
    "3. Do you see any overlap between the PCA features and those obtained from feature selection?"
   ]
  },
  {
   "cell_type": "code",
<<<<<<< HEAD
   "execution_count": 36,
=======
   "execution_count": 3,
   "metadata": {
    "pycharm": {
     "name": "#%%\n"
    }
   },
>>>>>>> 071e9167339b985399933aeb939b5f1b5aefeacc
   "outputs": [
    {
     "name": "stdout",
     "output_type": "stream",
     "text": [
<<<<<<< HEAD
      "For k=8 we get 2 overlapping features:\n",
      " {'spore-print-color_h', 'odor_n'} \n",
=======
      "For k=5 we get 2 overlapping features:\n",
      " {'odor_n', 'edibility_p'} \n",
      "\n",
      "For k=15 we get 3 overlapping features:\n",
      " {'spore-print-color_k', 'odor_n', 'edibility_p'} \n",
      "\n",
      "For k=25 we get 5 overlapping features:\n",
      " {'stalk-surface-above-ring_k', 'stalk-surface-below-ring_s', 'odor_n', 'spore-print-color_k', 'edibility_p'} \n",
      "\n",
      "For k=35 we get 10 overlapping features:\n",
      " {'stalk-surface-above-ring_k', 'gill-color_w', 'stalk-surface-below-ring_k', 'stalk-surface-below-ring_s', 'odor_n', 'odor_s', 'odor_y', 'gill-color_n', 'spore-print-color_k', 'edibility_p'} \n",
>>>>>>> 071e9167339b985399933aeb939b5f1b5aefeacc
      "\n"
     ]
    }
   ],
   "source": [
    "print(f\"For k={8} we get {len(set(selected).intersection(feature_names))} overlapping features:\\n\", set(selected).intersection(feature_names), \"\\n\")"
   ],
   "metadata": {
    "collapsed": false,
    "pycharm": {
     "name": "#%%\n"
    }
   }
  }
 ],
 "metadata": {
  "kernelspec": {
   "display_name": "Python 3 (ipykernel)",
   "language": "python",
   "name": "python3"
  },
  "language_info": {
   "codemirror_mode": {
    "name": "ipython",
    "version": 3
   },
   "file_extension": ".py",
   "mimetype": "text/x-python",
   "name": "python",
   "nbconvert_exporter": "python",
   "pygments_lexer": "ipython3",
   "version": "3.8.10"
  }
 },
 "nbformat": 4,
 "nbformat_minor": 1
}