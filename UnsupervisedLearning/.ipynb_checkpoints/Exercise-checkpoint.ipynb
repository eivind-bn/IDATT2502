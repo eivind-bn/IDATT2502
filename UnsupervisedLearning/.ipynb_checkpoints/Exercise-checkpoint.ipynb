{
 "cells": [
  {
   "cell_type": "markdown",
   "metadata": {
    "pycharm": {
     "name": "#%% md\n"
    }
   },
   "source": [
    "Using the UCI Mushroom dataset, use k-means and a suitable cluster evaluation\n",
    "metric to determine the optimal number of clusters in the dataset.\n",
    "Note that this may not necessarily be two (edible versus not-edible).\n"
   ]
  },
  {
   "cell_type": "markdown",
   "metadata": {},
   "source": [
    "Plot this metric while increasing the number of clusters, e.g.,  𝑘=2..30  (see here for an example).\n"
   ]
  },
  {
   "cell_type": "code",
   "execution_count": null,
   "metadata": {
    "pycharm": {
     "name": "#%%\n"
    }
   },
   "outputs": [
    {
     "name": "stdout",
     "output_type": "stream",
     "text": [
      "working....\n",
      "k = 2, score = 0.16223992558489375\n",
      "k = 3, score = 0.21591966205500285\n",
      "k = 4, score = 0.22534652135569389\n",
      "k = 5, score = 0.25418714597264586\n",
      "k = 6, score = 0.26975733675934394\n",
      "k = 7, score = 0.2829575093696461\n",
      "k = 8, score = 0.2896820375229995\n",
      "k = 9, score = 0.2900377523490631\n"
     ]
    }
   ],
   "source": [
    "import matplotlib.pyplot as plt\n",
    "import numpy as np\n",
    "import pandas as pd\n",
    "from sklearn.cluster import KMeans, DBSCAN\n",
    "from sklearn.decomposition import PCA\n",
    "from sklearn.datasets import make_blobs\n",
    "from sklearn import metrics\n",
    "\n",
    "\n",
    "df = pd.read_csv('agaricus-lepiota.csv')\n",
    "df_dummies = pd.get_dummies(df.drop('edibility', axis='columns'))\n",
    "\n",
    "\n",
    "max_score = 0\n",
    "scores = []\n",
    "best_cluster_size = None\n",
    "\n",
    "\n",
    "print('working....')\n",
    "for i in range(2,20):\n",
    "    k_means = KMeans(n_clusters=i)\n",
    "    k_means.fit(df_dummies)\n",
    "    cluster = k_means.predict(df_dummies)\n",
    "    score = metrics.silhouette_score(df_dummies, cluster)\n",
    "    scores.append(score)\n",
    "    print(f\"k = {i}, score = {score}\")\n",
    "    if(score > max_score):\n",
    "        max_score = score\n",
    "        best_cluster_size = i\n",
    "\n",
    "\n",
    "plt.plot(range(2,20), scores)\n",
    "plt.show()\n",
    "\n",
    "print(max_score)\n",
    "print(best_cluster_size)"
   ]
  },
  {
   "cell_type": "code",
   "execution_count": 15,
   "metadata": {
    "pycharm": {
     "name": "#%%\n"
    }
   },
   "outputs": [
    {
     "data": {
      "image/png": "[encoded data removed]",
      "text/plain": [
       "<Figure size 432x288 with 6 Axes>"
      ]
     },
     "metadata": {
      "needs_background": "light"
     },
     "output_type": "display_data"
    }
   ],
   "source": [
    "\n",
    "\n",
    "\n",
    "\n",
    "\n",
    "pca = PCA(n_components=3)\n",
    "df_pca = pca.fit_transform(df_dummies)\n"
   ]
  },
  {
   "cell_type": "markdown",
   "metadata": {
    "pycharm": {
     "name": "#%% md\n"
    }
   },
   "source": [
    "Visualise the data using the number of clusters and a suitable projection or low-dimensional embedding."
   ]
  },
  {
   "cell_type": "code",
   "execution_count": null,
   "metadata": {
    "pycharm": {
     "is_executing": true,
     "name": "#%%\n"
    }
   },
   "outputs": [],
   "source": [
    "plt.close()\n",
    "\n",
    "fig = plt.figure()\n",
    "ax = fig.add_subplot(projection='3d')\n",
    "\n",
    "k_means = KMeans(n_clusters=9)\n",
    "k_means.fit(df_dummies)\n",
    "clusters = k_means.predict(df_dummies)\n",
    "\n",
    "colors = ['green',\n",
    "          'blue',\n",
    "          'red',\n",
    "          'yellow',\n",
    "          'cyan',\n",
    "          'orange',\n",
    "          'purple',\n",
    "          'grey',\n",
    "          'pink']\n",
    "print(clusters)\n",
    "\n",
    "for i, e in enumerate(df_pca):\n",
    "    ax.scatter(*e, color=colors[clusters[i]])\n",
    "\n",
    "plt.show()\n"
   ]
  }
 ],
 "metadata": {
  "kernelspec": {
   "display_name": "Python 3 (ipykernel)",
   "language": "python",
   "name": "python3"
  },
  "language_info": {
   "codemirror_mode": {
    "name": "ipython",
    "version": 3
   },
   "file_extension": ".py",
   "mimetype": "text/x-python",
   "name": "python",
   "nbconvert_exporter": "python",
   "pygments_lexer": "ipython3",
   "version": "3.8.10"
  }
 },
 "nbformat": 4,
 "nbformat_minor": 1
}
